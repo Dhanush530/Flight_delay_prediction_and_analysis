{
 "cells": [
  {
   "cell_type": "markdown",
   "metadata": {},
   "source": [
    "#### Coding carried out in Google Colab"
   ]
  },
  {
   "cell_type": "code",
   "execution_count": 14,
   "metadata": {
    "id": "sCUxuKqWVDC9"
   },
   "outputs": [],
   "source": [
    "#Redaing train data with target derived\n",
    "train_df = pd.read_csv('/content/drive/MyDrive/flight/train_target.csv')"
   ]
  },
  {
   "cell_type": "code",
   "execution_count": 15,
   "metadata": {
    "id": "aENbcCdJlGIv"
   },
   "outputs": [],
   "source": [
    "#reading final weather data\n",
    "weather_df = pd.read_csv('/content/drive/MyDrive/flight/DriveUploader/final_weather_data.csv')"
   ]
  },
  {
   "cell_type": "code",
   "execution_count": 16,
   "metadata": {
    "colab": {
     "base_uri": "https://localhost:8080/",
     "height": 206
    },
    "id": "HJFRiCQ6Y604",
    "outputId": "fdcdb850-03a4-453d-e9db-a67e6d6863a1"
   },
   "outputs": [
    {
     "data": {
      "text/html": [
       "\n",
       "  <div id=\"df-1dd96aff-a1e9-42e1-a764-70740d9ded80\">\n",
       "    <div class=\"colab-df-container\">\n",
       "      <div>\n",
       "<style scoped>\n",
       "    .dataframe tbody tr th:only-of-type {\n",
       "        vertical-align: middle;\n",
       "    }\n",
       "\n",
       "    .dataframe tbody tr th {\n",
       "        vertical-align: top;\n",
       "    }\n",
       "\n",
       "    .dataframe thead th {\n",
       "        text-align: right;\n",
       "    }\n",
       "</style>\n",
       "<table border=\"1\" class=\"dataframe\">\n",
       "  <thead>\n",
       "    <tr style=\"text-align: right;\">\n",
       "      <th></th>\n",
       "      <th>FlightNumber</th>\n",
       "      <th>DayOfWeek</th>\n",
       "      <th>Origin</th>\n",
       "      <th>Destination</th>\n",
       "      <th>Distance</th>\n",
       "      <th>ActualArrivalTimeStamp</th>\n",
       "      <th>ScheduledArrTime_c</th>\n",
       "      <th>FlightDelayStatus</th>\n",
       "    </tr>\n",
       "  </thead>\n",
       "  <tbody>\n",
       "    <tr>\n",
       "      <th>0</th>\n",
       "      <td>SMF_ATL_37955</td>\n",
       "      <td>3</td>\n",
       "      <td>SMF</td>\n",
       "      <td>ATL</td>\n",
       "      <td>2092</td>\n",
       "      <td>2004-01-01 19:11:00</td>\n",
       "      <td>2004-01-01 19:11:00</td>\n",
       "      <td>2</td>\n",
       "    </tr>\n",
       "    <tr>\n",
       "      <th>1</th>\n",
       "      <td>VLD_ATL_48545</td>\n",
       "      <td>3</td>\n",
       "      <td>VLD</td>\n",
       "      <td>ATL</td>\n",
       "      <td>208</td>\n",
       "      <td>2004-01-01 14:55:00</td>\n",
       "      <td>2004-01-01 14:55:00</td>\n",
       "      <td>2</td>\n",
       "    </tr>\n",
       "    <tr>\n",
       "      <th>2</th>\n",
       "      <td>DTW_BOS_31626</td>\n",
       "      <td>3</td>\n",
       "      <td>DTW</td>\n",
       "      <td>BOS</td>\n",
       "      <td>632</td>\n",
       "      <td>2004-01-01 18:33:00</td>\n",
       "      <td>2004-01-01 16:57:00</td>\n",
       "      <td>1</td>\n",
       "    </tr>\n",
       "    <tr>\n",
       "      <th>3</th>\n",
       "      <td>MKE_BWI_39603</td>\n",
       "      <td>3</td>\n",
       "      <td>MKE</td>\n",
       "      <td>BWI</td>\n",
       "      <td>641</td>\n",
       "      <td>2004-01-01 15:25:00</td>\n",
       "      <td>2004-01-01 15:25:00</td>\n",
       "      <td>2</td>\n",
       "    </tr>\n",
       "    <tr>\n",
       "      <th>4</th>\n",
       "      <td>DFW_CLT_33648</td>\n",
       "      <td>3</td>\n",
       "      <td>DFW</td>\n",
       "      <td>CLT</td>\n",
       "      <td>936</td>\n",
       "      <td>2004-01-01 18:14:00</td>\n",
       "      <td>2004-01-01 18:14:00</td>\n",
       "      <td>2</td>\n",
       "    </tr>\n",
       "  </tbody>\n",
       "</table>\n",
       "</div>\n",
       "      <button class=\"colab-df-convert\" onclick=\"convertToInteractive('df-1dd96aff-a1e9-42e1-a764-70740d9ded80')\"\n",
       "              title=\"Convert this dataframe to an interactive table.\"\n",
       "              style=\"display:none;\">\n",
       "        \n",
       "  <svg xmlns=\"http://www.w3.org/2000/svg\" height=\"24px\"viewBox=\"0 0 24 24\"\n",
       "       width=\"24px\">\n",
       "    <path d=\"M0 0h24v24H0V0z\" fill=\"none\"/>\n",
       "    <path d=\"M18.56 5.44l.94 2.06.94-2.06 2.06-.94-2.06-.94-.94-2.06-.94 2.06-2.06.94zm-11 1L8.5 8.5l.94-2.06 2.06-.94-2.06-.94L8.5 2.5l-.94 2.06-2.06.94zm10 10l.94 2.06.94-2.06 2.06-.94-2.06-.94-.94-2.06-.94 2.06-2.06.94z\"/><path d=\"M17.41 7.96l-1.37-1.37c-.4-.4-.92-.59-1.43-.59-.52 0-1.04.2-1.43.59L10.3 9.45l-7.72 7.72c-.78.78-.78 2.05 0 2.83L4 21.41c.39.39.9.59 1.41.59.51 0 1.02-.2 1.41-.59l7.78-7.78 2.81-2.81c.8-.78.8-2.07 0-2.86zM5.41 20L4 18.59l7.72-7.72 1.47 1.35L5.41 20z\"/>\n",
       "  </svg>\n",
       "      </button>\n",
       "      \n",
       "  <style>\n",
       "    .colab-df-container {\n",
       "      display:flex;\n",
       "      flex-wrap:wrap;\n",
       "      gap: 12px;\n",
       "    }\n",
       "\n",
       "    .colab-df-convert {\n",
       "      background-color: #E8F0FE;\n",
       "      border: none;\n",
       "      border-radius: 50%;\n",
       "      cursor: pointer;\n",
       "      display: none;\n",
       "      fill: #1967D2;\n",
       "      height: 32px;\n",
       "      padding: 0 0 0 0;\n",
       "      width: 32px;\n",
       "    }\n",
       "\n",
       "    .colab-df-convert:hover {\n",
       "      background-color: #E2EBFA;\n",
       "      box-shadow: 0px 1px 2px rgba(60, 64, 67, 0.3), 0px 1px 3px 1px rgba(60, 64, 67, 0.15);\n",
       "      fill: #174EA6;\n",
       "    }\n",
       "\n",
       "    [theme=dark] .colab-df-convert {\n",
       "      background-color: #3B4455;\n",
       "      fill: #D2E3FC;\n",
       "    }\n",
       "\n",
       "    [theme=dark] .colab-df-convert:hover {\n",
       "      background-color: #434B5C;\n",
       "      box-shadow: 0px 1px 3px 1px rgba(0, 0, 0, 0.15);\n",
       "      filter: drop-shadow(0px 1px 2px rgba(0, 0, 0, 0.3));\n",
       "      fill: #FFFFFF;\n",
       "    }\n",
       "  </style>\n",
       "\n",
       "      <script>\n",
       "        const buttonEl =\n",
       "          document.querySelector('#df-1dd96aff-a1e9-42e1-a764-70740d9ded80 button.colab-df-convert');\n",
       "        buttonEl.style.display =\n",
       "          google.colab.kernel.accessAllowed ? 'block' : 'none';\n",
       "\n",
       "        async function convertToInteractive(key) {\n",
       "          const element = document.querySelector('#df-1dd96aff-a1e9-42e1-a764-70740d9ded80');\n",
       "          const dataTable =\n",
       "            await google.colab.kernel.invokeFunction('convertToInteractive',\n",
       "                                                     [key], {});\n",
       "          if (!dataTable) return;\n",
       "\n",
       "          const docLinkHtml = 'Like what you see? Visit the ' +\n",
       "            '<a target=\"_blank\" href=https://colab.research.google.com/notebooks/data_table.ipynb>data table notebook</a>'\n",
       "            + ' to learn more about interactive tables.';\n",
       "          element.innerHTML = '';\n",
       "          dataTable['output_type'] = 'display_data';\n",
       "          await google.colab.output.renderOutput(dataTable, element);\n",
       "          const docLink = document.createElement('div');\n",
       "          docLink.innerHTML = docLinkHtml;\n",
       "          element.appendChild(docLink);\n",
       "        }\n",
       "      </script>\n",
       "    </div>\n",
       "  </div>\n",
       "  "
      ],
      "text/plain": [
       "    FlightNumber  DayOfWeek Origin Destination  Distance  \\\n",
       "0  SMF_ATL_37955          3    SMF         ATL      2092   \n",
       "1  VLD_ATL_48545          3    VLD         ATL       208   \n",
       "2  DTW_BOS_31626          3    DTW         BOS       632   \n",
       "3  MKE_BWI_39603          3    MKE         BWI       641   \n",
       "4  DFW_CLT_33648          3    DFW         CLT       936   \n",
       "\n",
       "  ActualArrivalTimeStamp   ScheduledArrTime_c  FlightDelayStatus  \n",
       "0    2004-01-01 19:11:00  2004-01-01 19:11:00                  2  \n",
       "1    2004-01-01 14:55:00  2004-01-01 14:55:00                  2  \n",
       "2    2004-01-01 18:33:00  2004-01-01 16:57:00                  1  \n",
       "3    2004-01-01 15:25:00  2004-01-01 15:25:00                  2  \n",
       "4    2004-01-01 18:14:00  2004-01-01 18:14:00                  2  "
      ]
     },
     "execution_count": 16,
     "metadata": {},
     "output_type": "execute_result"
    }
   ],
   "source": [
    "train_df.head()"
   ]
  },
  {
   "cell_type": "code",
   "execution_count": 17,
   "metadata": {
    "colab": {
     "base_uri": "https://localhost:8080/",
     "height": 374
    },
    "id": "CZfrlpmNpU3Q",
    "outputId": "2a619de5-0cf6-4860-bfd9-f2ac09e94cb4"
   },
   "outputs": [
    {
     "data": {
      "text/html": [
       "\n",
       "  <div id=\"df-999f0ecd-4457-4c28-ab1e-0c692fc09e03\">\n",
       "    <div class=\"colab-df-container\">\n",
       "      <div>\n",
       "<style scoped>\n",
       "    .dataframe tbody tr th:only-of-type {\n",
       "        vertical-align: middle;\n",
       "    }\n",
       "\n",
       "    .dataframe tbody tr th {\n",
       "        vertical-align: top;\n",
       "    }\n",
       "\n",
       "    .dataframe thead th {\n",
       "        text-align: right;\n",
       "    }\n",
       "</style>\n",
       "<table border=\"1\" class=\"dataframe\">\n",
       "  <thead>\n",
       "    <tr style=\"text-align: right;\">\n",
       "      <th></th>\n",
       "      <th>WeatherStationID</th>\n",
       "      <th>SkyConditions</th>\n",
       "      <th>Visibility</th>\n",
       "      <th>DBT</th>\n",
       "      <th>RelativeHumidityPercent</th>\n",
       "      <th>WindSpeed</th>\n",
       "      <th>WindDirection</th>\n",
       "      <th>StationPressure</th>\n",
       "      <th>HourlyPrecip</th>\n",
       "      <th>YearMonthDay_Time</th>\n",
       "      <th>AirportID</th>\n",
       "      <th>StationHeight</th>\n",
       "      <th>Latitude</th>\n",
       "      <th>Longitude</th>\n",
       "      <th>TimeZone</th>\n",
       "    </tr>\n",
       "  </thead>\n",
       "  <tbody>\n",
       "    <tr>\n",
       "      <th>0</th>\n",
       "      <td>3011</td>\n",
       "      <td>FEW075 BKN090</td>\n",
       "      <td>10.00</td>\n",
       "      <td>32.0</td>\n",
       "      <td>40.0</td>\n",
       "      <td>15.0</td>\n",
       "      <td>160</td>\n",
       "      <td>30.05</td>\n",
       "      <td>0.0</td>\n",
       "      <td>2004-01-01 13:50:00</td>\n",
       "      <td>TEX</td>\n",
       "      <td>0.0</td>\n",
       "      <td>37.57</td>\n",
       "      <td>-107.55</td>\n",
       "      <td>4</td>\n",
       "    </tr>\n",
       "    <tr>\n",
       "      <th>1</th>\n",
       "      <td>3011</td>\n",
       "      <td>BKN028 OVC033</td>\n",
       "      <td>10.00</td>\n",
       "      <td>21.0</td>\n",
       "      <td>74.0</td>\n",
       "      <td>5.0</td>\n",
       "      <td>30</td>\n",
       "      <td>30.06</td>\n",
       "      <td>0.0</td>\n",
       "      <td>2004-01-01 19:10:00</td>\n",
       "      <td>TEX</td>\n",
       "      <td>0.0</td>\n",
       "      <td>37.57</td>\n",
       "      <td>-107.55</td>\n",
       "      <td>4</td>\n",
       "    </tr>\n",
       "    <tr>\n",
       "      <th>2</th>\n",
       "      <td>3011</td>\n",
       "      <td>FEW025 OVC032</td>\n",
       "      <td>9.00</td>\n",
       "      <td>25.0</td>\n",
       "      <td>75.0</td>\n",
       "      <td>4.0</td>\n",
       "      <td>30</td>\n",
       "      <td>30.06</td>\n",
       "      <td>0.0</td>\n",
       "      <td>2004-01-01 20:10:00</td>\n",
       "      <td>TEX</td>\n",
       "      <td>0.0</td>\n",
       "      <td>37.57</td>\n",
       "      <td>-107.55</td>\n",
       "      <td>4</td>\n",
       "    </tr>\n",
       "    <tr>\n",
       "      <th>3</th>\n",
       "      <td>3011</td>\n",
       "      <td>FEW045 BKN060 OVC080</td>\n",
       "      <td>10.00</td>\n",
       "      <td>34.0</td>\n",
       "      <td>54.0</td>\n",
       "      <td>16.0</td>\n",
       "      <td>240</td>\n",
       "      <td>29.92</td>\n",
       "      <td>0.0</td>\n",
       "      <td>2004-01-02 04:10:00</td>\n",
       "      <td>TEX</td>\n",
       "      <td>0.0</td>\n",
       "      <td>37.57</td>\n",
       "      <td>-107.55</td>\n",
       "      <td>4</td>\n",
       "    </tr>\n",
       "    <tr>\n",
       "      <th>4</th>\n",
       "      <td>3011</td>\n",
       "      <td>BKN010 OVC017</td>\n",
       "      <td>1.75</td>\n",
       "      <td>25.0</td>\n",
       "      <td>85.0</td>\n",
       "      <td>0.0</td>\n",
       "      <td>0</td>\n",
       "      <td>29.95</td>\n",
       "      <td>0.0</td>\n",
       "      <td>2004-01-02 07:30:00</td>\n",
       "      <td>TEX</td>\n",
       "      <td>0.0</td>\n",
       "      <td>37.57</td>\n",
       "      <td>-107.55</td>\n",
       "      <td>4</td>\n",
       "    </tr>\n",
       "  </tbody>\n",
       "</table>\n",
       "</div>\n",
       "      <button class=\"colab-df-convert\" onclick=\"convertToInteractive('df-999f0ecd-4457-4c28-ab1e-0c692fc09e03')\"\n",
       "              title=\"Convert this dataframe to an interactive table.\"\n",
       "              style=\"display:none;\">\n",
       "        \n",
       "  <svg xmlns=\"http://www.w3.org/2000/svg\" height=\"24px\"viewBox=\"0 0 24 24\"\n",
       "       width=\"24px\">\n",
       "    <path d=\"M0 0h24v24H0V0z\" fill=\"none\"/>\n",
       "    <path d=\"M18.56 5.44l.94 2.06.94-2.06 2.06-.94-2.06-.94-.94-2.06-.94 2.06-2.06.94zm-11 1L8.5 8.5l.94-2.06 2.06-.94-2.06-.94L8.5 2.5l-.94 2.06-2.06.94zm10 10l.94 2.06.94-2.06 2.06-.94-2.06-.94-.94-2.06-.94 2.06-2.06.94z\"/><path d=\"M17.41 7.96l-1.37-1.37c-.4-.4-.92-.59-1.43-.59-.52 0-1.04.2-1.43.59L10.3 9.45l-7.72 7.72c-.78.78-.78 2.05 0 2.83L4 21.41c.39.39.9.59 1.41.59.51 0 1.02-.2 1.41-.59l7.78-7.78 2.81-2.81c.8-.78.8-2.07 0-2.86zM5.41 20L4 18.59l7.72-7.72 1.47 1.35L5.41 20z\"/>\n",
       "  </svg>\n",
       "      </button>\n",
       "      \n",
       "  <style>\n",
       "    .colab-df-container {\n",
       "      display:flex;\n",
       "      flex-wrap:wrap;\n",
       "      gap: 12px;\n",
       "    }\n",
       "\n",
       "    .colab-df-convert {\n",
       "      background-color: #E8F0FE;\n",
       "      border: none;\n",
       "      border-radius: 50%;\n",
       "      cursor: pointer;\n",
       "      display: none;\n",
       "      fill: #1967D2;\n",
       "      height: 32px;\n",
       "      padding: 0 0 0 0;\n",
       "      width: 32px;\n",
       "    }\n",
       "\n",
       "    .colab-df-convert:hover {\n",
       "      background-color: #E2EBFA;\n",
       "      box-shadow: 0px 1px 2px rgba(60, 64, 67, 0.3), 0px 1px 3px 1px rgba(60, 64, 67, 0.15);\n",
       "      fill: #174EA6;\n",
       "    }\n",
       "\n",
       "    [theme=dark] .colab-df-convert {\n",
       "      background-color: #3B4455;\n",
       "      fill: #D2E3FC;\n",
       "    }\n",
       "\n",
       "    [theme=dark] .colab-df-convert:hover {\n",
       "      background-color: #434B5C;\n",
       "      box-shadow: 0px 1px 3px 1px rgba(0, 0, 0, 0.15);\n",
       "      filter: drop-shadow(0px 1px 2px rgba(0, 0, 0, 0.3));\n",
       "      fill: #FFFFFF;\n",
       "    }\n",
       "  </style>\n",
       "\n",
       "      <script>\n",
       "        const buttonEl =\n",
       "          document.querySelector('#df-999f0ecd-4457-4c28-ab1e-0c692fc09e03 button.colab-df-convert');\n",
       "        buttonEl.style.display =\n",
       "          google.colab.kernel.accessAllowed ? 'block' : 'none';\n",
       "\n",
       "        async function convertToInteractive(key) {\n",
       "          const element = document.querySelector('#df-999f0ecd-4457-4c28-ab1e-0c692fc09e03');\n",
       "          const dataTable =\n",
       "            await google.colab.kernel.invokeFunction('convertToInteractive',\n",
       "                                                     [key], {});\n",
       "          if (!dataTable) return;\n",
       "\n",
       "          const docLinkHtml = 'Like what you see? Visit the ' +\n",
       "            '<a target=\"_blank\" href=https://colab.research.google.com/notebooks/data_table.ipynb>data table notebook</a>'\n",
       "            + ' to learn more about interactive tables.';\n",
       "          element.innerHTML = '';\n",
       "          dataTable['output_type'] = 'display_data';\n",
       "          await google.colab.output.renderOutput(dataTable, element);\n",
       "          const docLink = document.createElement('div');\n",
       "          docLink.innerHTML = docLinkHtml;\n",
       "          element.appendChild(docLink);\n",
       "        }\n",
       "      </script>\n",
       "    </div>\n",
       "  </div>\n",
       "  "
      ],
      "text/plain": [
       "   WeatherStationID         SkyConditions  Visibility   DBT  \\\n",
       "0              3011         FEW075 BKN090       10.00  32.0   \n",
       "1              3011         BKN028 OVC033       10.00  21.0   \n",
       "2              3011         FEW025 OVC032        9.00  25.0   \n",
       "3              3011  FEW045 BKN060 OVC080       10.00  34.0   \n",
       "4              3011         BKN010 OVC017        1.75  25.0   \n",
       "\n",
       "   RelativeHumidityPercent  WindSpeed  WindDirection  StationPressure  \\\n",
       "0                     40.0       15.0            160            30.05   \n",
       "1                     74.0        5.0             30            30.06   \n",
       "2                     75.0        4.0             30            30.06   \n",
       "3                     54.0       16.0            240            29.92   \n",
       "4                     85.0        0.0              0            29.95   \n",
       "\n",
       "   HourlyPrecip    YearMonthDay_Time AirportID  StationHeight  Latitude  \\\n",
       "0           0.0  2004-01-01 13:50:00       TEX            0.0     37.57   \n",
       "1           0.0  2004-01-01 19:10:00       TEX            0.0     37.57   \n",
       "2           0.0  2004-01-01 20:10:00       TEX            0.0     37.57   \n",
       "3           0.0  2004-01-02 04:10:00       TEX            0.0     37.57   \n",
       "4           0.0  2004-01-02 07:30:00       TEX            0.0     37.57   \n",
       "\n",
       "   Longitude  TimeZone  \n",
       "0    -107.55         4  \n",
       "1    -107.55         4  \n",
       "2    -107.55         4  \n",
       "3    -107.55         4  \n",
       "4    -107.55         4  "
      ]
     },
     "execution_count": 17,
     "metadata": {},
     "output_type": "execute_result"
    }
   ],
   "source": [
    "weather_df.head()"
   ]
  },
  {
   "cell_type": "code",
   "execution_count": 18,
   "metadata": {
    "colab": {
     "base_uri": "https://localhost:8080/"
    },
    "id": "ZoadIh_TZFGv",
    "outputId": "e0385f5d-f9fa-4904-d687-a3c848309409"
   },
   "outputs": [
    {
     "data": {
      "text/plain": [
       "(7861, 8)"
      ]
     },
     "execution_count": 18,
     "metadata": {},
     "output_type": "execute_result"
    }
   ],
   "source": [
    "train_df.shape"
   ]
  },
  {
   "cell_type": "code",
   "execution_count": 19,
   "metadata": {
    "colab": {
     "base_uri": "https://localhost:8080/"
    },
    "id": "Ih06gHQzpZfn",
    "outputId": "3173f1a1-9291-41d7-c479-534e976e04fc"
   },
   "outputs": [
    {
     "data": {
      "text/plain": [
       "(6485177, 15)"
      ]
     },
     "execution_count": 19,
     "metadata": {},
     "output_type": "execute_result"
    }
   ],
   "source": [
    "weather_df.shape"
   ]
  },
  {
   "cell_type": "code",
   "execution_count": 20,
   "metadata": {
    "colab": {
     "base_uri": "https://localhost:8080/"
    },
    "id": "vambrGIkZIOT",
    "outputId": "002dd553-783c-4bcb-d3ca-be74b067dacf"
   },
   "outputs": [
    {
     "data": {
      "text/plain": [
       "FlightNumber              object\n",
       "DayOfWeek                  int64\n",
       "Origin                    object\n",
       "Destination               object\n",
       "Distance                   int64\n",
       "ActualArrivalTimeStamp    object\n",
       "ScheduledArrTime_c        object\n",
       "FlightDelayStatus          int64\n",
       "dtype: object"
      ]
     },
     "execution_count": 20,
     "metadata": {},
     "output_type": "execute_result"
    }
   ],
   "source": [
    "train_df.dtypes"
   ]
  },
  {
   "cell_type": "code",
   "execution_count": 21,
   "metadata": {
    "colab": {
     "base_uri": "https://localhost:8080/"
    },
    "id": "8HnYXPxSpfq7",
    "outputId": "ce33d0c7-e004-4237-f82f-cbe3ee56f571"
   },
   "outputs": [
    {
     "data": {
      "text/plain": [
       "WeatherStationID             int64\n",
       "SkyConditions               object\n",
       "Visibility                 float64\n",
       "DBT                        float64\n",
       "RelativeHumidityPercent    float64\n",
       "WindSpeed                  float64\n",
       "WindDirection                int64\n",
       "StationPressure            float64\n",
       "HourlyPrecip               float64\n",
       "YearMonthDay_Time           object\n",
       "AirportID                   object\n",
       "StationHeight              float64\n",
       "Latitude                   float64\n",
       "Longitude                  float64\n",
       "TimeZone                     int64\n",
       "dtype: object"
      ]
     },
     "execution_count": 21,
     "metadata": {},
     "output_type": "execute_result"
    }
   ],
   "source": [
    "weather_df.dtypes"
   ]
  },
  {
   "cell_type": "code",
   "execution_count": 22,
   "metadata": {
    "colab": {
     "base_uri": "https://localhost:8080/"
    },
    "id": "IomWnrztZMvu",
    "outputId": "00a11869-4cd2-43be-91f7-1d368ab0ce74"
   },
   "outputs": [
    {
     "data": {
      "text/plain": [
       "FlightNumber              0\n",
       "DayOfWeek                 0\n",
       "Origin                    0\n",
       "Destination               0\n",
       "Distance                  0\n",
       "ActualArrivalTimeStamp    0\n",
       "ScheduledArrTime_c        0\n",
       "FlightDelayStatus         0\n",
       "dtype: int64"
      ]
     },
     "execution_count": 22,
     "metadata": {},
     "output_type": "execute_result"
    }
   ],
   "source": [
    "train_df.isna().sum()"
   ]
  },
  {
   "cell_type": "code",
   "execution_count": 23,
   "metadata": {
    "colab": {
     "base_uri": "https://localhost:8080/"
    },
    "id": "XvMSqyc-alFZ",
    "outputId": "38a80021-e58c-45f8-a83c-949eca3ea3c3"
   },
   "outputs": [
    {
     "data": {
      "text/plain": [
       "WeatherStationID             0\n",
       "SkyConditions                0\n",
       "Visibility                   0\n",
       "DBT                          0\n",
       "RelativeHumidityPercent      0\n",
       "WindSpeed                    0\n",
       "WindDirection                0\n",
       "StationPressure              0\n",
       "HourlyPrecip                 0\n",
       "YearMonthDay_Time            0\n",
       "AirportID                  928\n",
       "StationHeight              928\n",
       "Latitude                   928\n",
       "Longitude                  928\n",
       "TimeZone                     0\n",
       "dtype: int64"
      ]
     },
     "execution_count": 23,
     "metadata": {},
     "output_type": "execute_result"
    }
   ],
   "source": [
    "weather_df.isna().sum()"
   ]
  },
  {
   "cell_type": "code",
   "execution_count": 25,
   "metadata": {
    "colab": {
     "base_uri": "https://localhost:8080/",
     "height": 206
    },
    "id": "KlogNjPjpuf1",
    "outputId": "fdfac999-9e7a-49bc-d554-1578b4ded50c"
   },
   "outputs": [
    {
     "data": {
      "text/html": [
       "\n",
       "  <div id=\"df-bfab7111-2245-45ee-9c76-0ef8d071d844\">\n",
       "    <div class=\"colab-df-container\">\n",
       "      <div>\n",
       "<style scoped>\n",
       "    .dataframe tbody tr th:only-of-type {\n",
       "        vertical-align: middle;\n",
       "    }\n",
       "\n",
       "    .dataframe tbody tr th {\n",
       "        vertical-align: top;\n",
       "    }\n",
       "\n",
       "    .dataframe thead th {\n",
       "        text-align: right;\n",
       "    }\n",
       "</style>\n",
       "<table border=\"1\" class=\"dataframe\">\n",
       "  <thead>\n",
       "    <tr style=\"text-align: right;\">\n",
       "      <th></th>\n",
       "      <th>FlightNumber</th>\n",
       "      <th>DayOfWeek</th>\n",
       "      <th>Origin</th>\n",
       "      <th>Destination</th>\n",
       "      <th>Distance</th>\n",
       "      <th>ActualArrivalTimeStamp</th>\n",
       "      <th>ScheduledArrTime_c</th>\n",
       "      <th>FlightDelayStatus</th>\n",
       "    </tr>\n",
       "  </thead>\n",
       "  <tbody>\n",
       "    <tr>\n",
       "      <th>0</th>\n",
       "      <td>SMF_ATL_37955</td>\n",
       "      <td>3</td>\n",
       "      <td>SMF</td>\n",
       "      <td>ATL</td>\n",
       "      <td>2092</td>\n",
       "      <td>2004-01-01 19:11:00</td>\n",
       "      <td>2004-01-01 19:11:00</td>\n",
       "      <td>2</td>\n",
       "    </tr>\n",
       "    <tr>\n",
       "      <th>1</th>\n",
       "      <td>VLD_ATL_48545</td>\n",
       "      <td>3</td>\n",
       "      <td>VLD</td>\n",
       "      <td>ATL</td>\n",
       "      <td>208</td>\n",
       "      <td>2004-01-01 14:55:00</td>\n",
       "      <td>2004-01-01 14:55:00</td>\n",
       "      <td>2</td>\n",
       "    </tr>\n",
       "    <tr>\n",
       "      <th>2</th>\n",
       "      <td>DTW_BOS_31626</td>\n",
       "      <td>3</td>\n",
       "      <td>DTW</td>\n",
       "      <td>BOS</td>\n",
       "      <td>632</td>\n",
       "      <td>2004-01-01 18:33:00</td>\n",
       "      <td>2004-01-01 16:57:00</td>\n",
       "      <td>1</td>\n",
       "    </tr>\n",
       "    <tr>\n",
       "      <th>3</th>\n",
       "      <td>MKE_BWI_39603</td>\n",
       "      <td>3</td>\n",
       "      <td>MKE</td>\n",
       "      <td>BWI</td>\n",
       "      <td>641</td>\n",
       "      <td>2004-01-01 15:25:00</td>\n",
       "      <td>2004-01-01 15:25:00</td>\n",
       "      <td>2</td>\n",
       "    </tr>\n",
       "    <tr>\n",
       "      <th>4</th>\n",
       "      <td>DFW_CLT_33648</td>\n",
       "      <td>3</td>\n",
       "      <td>DFW</td>\n",
       "      <td>CLT</td>\n",
       "      <td>936</td>\n",
       "      <td>2004-01-01 18:14:00</td>\n",
       "      <td>2004-01-01 18:14:00</td>\n",
       "      <td>2</td>\n",
       "    </tr>\n",
       "  </tbody>\n",
       "</table>\n",
       "</div>\n",
       "      <button class=\"colab-df-convert\" onclick=\"convertToInteractive('df-bfab7111-2245-45ee-9c76-0ef8d071d844')\"\n",
       "              title=\"Convert this dataframe to an interactive table.\"\n",
       "              style=\"display:none;\">\n",
       "        \n",
       "  <svg xmlns=\"http://www.w3.org/2000/svg\" height=\"24px\"viewBox=\"0 0 24 24\"\n",
       "       width=\"24px\">\n",
       "    <path d=\"M0 0h24v24H0V0z\" fill=\"none\"/>\n",
       "    <path d=\"M18.56 5.44l.94 2.06.94-2.06 2.06-.94-2.06-.94-.94-2.06-.94 2.06-2.06.94zm-11 1L8.5 8.5l.94-2.06 2.06-.94-2.06-.94L8.5 2.5l-.94 2.06-2.06.94zm10 10l.94 2.06.94-2.06 2.06-.94-2.06-.94-.94-2.06-.94 2.06-2.06.94z\"/><path d=\"M17.41 7.96l-1.37-1.37c-.4-.4-.92-.59-1.43-.59-.52 0-1.04.2-1.43.59L10.3 9.45l-7.72 7.72c-.78.78-.78 2.05 0 2.83L4 21.41c.39.39.9.59 1.41.59.51 0 1.02-.2 1.41-.59l7.78-7.78 2.81-2.81c.8-.78.8-2.07 0-2.86zM5.41 20L4 18.59l7.72-7.72 1.47 1.35L5.41 20z\"/>\n",
       "  </svg>\n",
       "      </button>\n",
       "      \n",
       "  <style>\n",
       "    .colab-df-container {\n",
       "      display:flex;\n",
       "      flex-wrap:wrap;\n",
       "      gap: 12px;\n",
       "    }\n",
       "\n",
       "    .colab-df-convert {\n",
       "      background-color: #E8F0FE;\n",
       "      border: none;\n",
       "      border-radius: 50%;\n",
       "      cursor: pointer;\n",
       "      display: none;\n",
       "      fill: #1967D2;\n",
       "      height: 32px;\n",
       "      padding: 0 0 0 0;\n",
       "      width: 32px;\n",
       "    }\n",
       "\n",
       "    .colab-df-convert:hover {\n",
       "      background-color: #E2EBFA;\n",
       "      box-shadow: 0px 1px 2px rgba(60, 64, 67, 0.3), 0px 1px 3px 1px rgba(60, 64, 67, 0.15);\n",
       "      fill: #174EA6;\n",
       "    }\n",
       "\n",
       "    [theme=dark] .colab-df-convert {\n",
       "      background-color: #3B4455;\n",
       "      fill: #D2E3FC;\n",
       "    }\n",
       "\n",
       "    [theme=dark] .colab-df-convert:hover {\n",
       "      background-color: #434B5C;\n",
       "      box-shadow: 0px 1px 3px 1px rgba(0, 0, 0, 0.15);\n",
       "      filter: drop-shadow(0px 1px 2px rgba(0, 0, 0, 0.3));\n",
       "      fill: #FFFFFF;\n",
       "    }\n",
       "  </style>\n",
       "\n",
       "      <script>\n",
       "        const buttonEl =\n",
       "          document.querySelector('#df-bfab7111-2245-45ee-9c76-0ef8d071d844 button.colab-df-convert');\n",
       "        buttonEl.style.display =\n",
       "          google.colab.kernel.accessAllowed ? 'block' : 'none';\n",
       "\n",
       "        async function convertToInteractive(key) {\n",
       "          const element = document.querySelector('#df-bfab7111-2245-45ee-9c76-0ef8d071d844');\n",
       "          const dataTable =\n",
       "            await google.colab.kernel.invokeFunction('convertToInteractive',\n",
       "                                                     [key], {});\n",
       "          if (!dataTable) return;\n",
       "\n",
       "          const docLinkHtml = 'Like what you see? Visit the ' +\n",
       "            '<a target=\"_blank\" href=https://colab.research.google.com/notebooks/data_table.ipynb>data table notebook</a>'\n",
       "            + ' to learn more about interactive tables.';\n",
       "          element.innerHTML = '';\n",
       "          dataTable['output_type'] = 'display_data';\n",
       "          await google.colab.output.renderOutput(dataTable, element);\n",
       "          const docLink = document.createElement('div');\n",
       "          docLink.innerHTML = docLinkHtml;\n",
       "          element.appendChild(docLink);\n",
       "        }\n",
       "      </script>\n",
       "    </div>\n",
       "  </div>\n",
       "  "
      ],
      "text/plain": [
       "    FlightNumber  DayOfWeek Origin Destination  Distance  \\\n",
       "0  SMF_ATL_37955          3    SMF         ATL      2092   \n",
       "1  VLD_ATL_48545          3    VLD         ATL       208   \n",
       "2  DTW_BOS_31626          3    DTW         BOS       632   \n",
       "3  MKE_BWI_39603          3    MKE         BWI       641   \n",
       "4  DFW_CLT_33648          3    DFW         CLT       936   \n",
       "\n",
       "  ActualArrivalTimeStamp   ScheduledArrTime_c  FlightDelayStatus  \n",
       "0    2004-01-01 19:11:00  2004-01-01 19:11:00                  2  \n",
       "1    2004-01-01 14:55:00  2004-01-01 14:55:00                  2  \n",
       "2    2004-01-01 18:33:00  2004-01-01 16:57:00                  1  \n",
       "3    2004-01-01 15:25:00  2004-01-01 15:25:00                  2  \n",
       "4    2004-01-01 18:14:00  2004-01-01 18:14:00                  2  "
      ]
     },
     "execution_count": 25,
     "metadata": {},
     "output_type": "execute_result"
    }
   ],
   "source": [
    "train_df.head()"
   ]
  },
  {
   "cell_type": "code",
   "execution_count": 26,
   "metadata": {
    "id": "GIDYehBapzQn"
   },
   "outputs": [],
   "source": [
    "# Converting to respective columns to datetime format\n",
    "train_df['ActualArrivalTimeStamp'] = pd.to_datetime(train_df['ActualArrivalTimeStamp'],format = '%Y-%m-%d %H:%M')\n",
    "train_df['ScheduledArrTime_c'] = pd.to_datetime(train_df['ScheduledArrTime_c'],format = '%Y-%m-%d %H:%M')\n",
    "weather_df['YearMonthDay_Time'] = pd.to_datetime(weather_df['YearMonthDay_Time'],format = '%Y-%m-%d %H:%M')"
   ]
  },
  {
   "cell_type": "code",
   "execution_count": 27,
   "metadata": {
    "id": "kFhM6lvLyZCO"
   },
   "outputs": [],
   "source": [
    "# Renaming columns to merge both dataframes\n",
    "pd.DataFrame(train_df).rename(columns = {'ActualArrivalTimeStamp':'DateTimeStamp'},inplace = True)\n",
    "pd.DataFrame(weather_df).rename(columns = {'YearMonthDay_Time':'DateTimeStamp'},inplace = True)"
   ]
  },
  {
   "cell_type": "code",
   "execution_count": 28,
   "metadata": {
    "colab": {
     "base_uri": "https://localhost:8080/"
    },
    "id": "UT7ibCqgp7kZ",
    "outputId": "129b923e-1d1e-4c03-be74-f4a2f829603e"
   },
   "outputs": [
    {
     "data": {
      "text/plain": [
       "FlightNumber                  object\n",
       "DayOfWeek                      int64\n",
       "Origin                        object\n",
       "Destination                   object\n",
       "Distance                       int64\n",
       "DateTimeStamp         datetime64[ns]\n",
       "ScheduledArrTime_c    datetime64[ns]\n",
       "FlightDelayStatus              int64\n",
       "dtype: object"
      ]
     },
     "execution_count": 28,
     "metadata": {},
     "output_type": "execute_result"
    }
   ],
   "source": [
    "train_df.dtypes"
   ]
  },
  {
   "cell_type": "code",
   "execution_count": 29,
   "metadata": {
    "colab": {
     "base_uri": "https://localhost:8080/"
    },
    "id": "FySKSIJyp-PW",
    "outputId": "e10651d7-2e16-43a3-ad5e-c9253b0c4588"
   },
   "outputs": [
    {
     "data": {
      "text/plain": [
       "WeatherStationID                    int64\n",
       "SkyConditions                      object\n",
       "Visibility                        float64\n",
       "DBT                               float64\n",
       "RelativeHumidityPercent           float64\n",
       "WindSpeed                         float64\n",
       "WindDirection                       int64\n",
       "StationPressure                   float64\n",
       "HourlyPrecip                      float64\n",
       "DateTimeStamp              datetime64[ns]\n",
       "AirportID                          object\n",
       "StationHeight                     float64\n",
       "Latitude                          float64\n",
       "Longitude                         float64\n",
       "TimeZone                            int64\n",
       "dtype: object"
      ]
     },
     "execution_count": 29,
     "metadata": {},
     "output_type": "execute_result"
    }
   ],
   "source": [
    "weather_df.dtypes"
   ]
  },
  {
   "cell_type": "code",
   "execution_count": 37,
   "metadata": {
    "id": "2vqDE2pl6YHE"
   },
   "outputs": [],
   "source": [
    "#sorting values\n",
    "train_df.sort_values(by = 'DateTimeStamp',ignore_index = True,inplace = True,)"
   ]
  },
  {
   "cell_type": "code",
   "execution_count": 38,
   "metadata": {
    "id": "TVPWh7D38pPb"
   },
   "outputs": [],
   "source": [
    "weather_df.sort_values(by = 'DateTimeStamp',ignore_index = True,inplace = True,)"
   ]
  },
  {
   "cell_type": "code",
   "execution_count": 39,
   "metadata": {
    "id": "WVPxb5kSqgFe"
   },
   "outputs": [],
   "source": [
    "# Using merge_asof func to merge the dataframes w.r.t to DateTimeStamp \n",
    "train_df_v2 = pd.merge_asof(train_df,weather_df,on = 'DateTimeStamp',left_by = 'Destination',right_by = 'AirportID',\\\n",
    "                            tolerance = pd.Timedelta('4000m'),direction = 'nearest')"
   ]
  },
  {
   "cell_type": "code",
   "execution_count": 40,
   "metadata": {
    "colab": {
     "base_uri": "https://localhost:8080/"
    },
    "id": "2Dta9Xpvt4nM",
    "outputId": "522430e0-834d-4147-ab67-7c328ccd21da"
   },
   "outputs": [
    {
     "data": {
      "text/plain": [
       "(7861, 22)"
      ]
     },
     "execution_count": 40,
     "metadata": {},
     "output_type": "execute_result"
    }
   ],
   "source": [
    "train_df_v2.shape"
   ]
  },
  {
   "cell_type": "code",
   "execution_count": 41,
   "metadata": {
    "colab": {
     "base_uri": "https://localhost:8080/",
     "height": 374
    },
    "id": "HEMU2e3-9myE",
    "outputId": "832e1d25-3672-4a78-eb65-5c84ae752d8a"
   },
   "outputs": [
    {
     "data": {
      "text/html": [
       "\n",
       "  <div id=\"df-19a7da5e-427f-4a05-9e13-8af899c09492\">\n",
       "    <div class=\"colab-df-container\">\n",
       "      <div>\n",
       "<style scoped>\n",
       "    .dataframe tbody tr th:only-of-type {\n",
       "        vertical-align: middle;\n",
       "    }\n",
       "\n",
       "    .dataframe tbody tr th {\n",
       "        vertical-align: top;\n",
       "    }\n",
       "\n",
       "    .dataframe thead th {\n",
       "        text-align: right;\n",
       "    }\n",
       "</style>\n",
       "<table border=\"1\" class=\"dataframe\">\n",
       "  <thead>\n",
       "    <tr style=\"text-align: right;\">\n",
       "      <th></th>\n",
       "      <th>FlightNumber</th>\n",
       "      <th>DayOfWeek</th>\n",
       "      <th>Origin</th>\n",
       "      <th>Destination</th>\n",
       "      <th>Distance</th>\n",
       "      <th>DateTimeStamp</th>\n",
       "      <th>ScheduledArrTime_c</th>\n",
       "      <th>FlightDelayStatus</th>\n",
       "      <th>WeatherStationID</th>\n",
       "      <th>SkyConditions</th>\n",
       "      <th>Visibility</th>\n",
       "      <th>DBT</th>\n",
       "      <th>RelativeHumidityPercent</th>\n",
       "      <th>WindSpeed</th>\n",
       "      <th>WindDirection</th>\n",
       "      <th>StationPressure</th>\n",
       "      <th>HourlyPrecip</th>\n",
       "      <th>AirportID</th>\n",
       "      <th>StationHeight</th>\n",
       "      <th>Latitude</th>\n",
       "      <th>Longitude</th>\n",
       "      <th>TimeZone</th>\n",
       "    </tr>\n",
       "  </thead>\n",
       "  <tbody>\n",
       "    <tr>\n",
       "      <th>0</th>\n",
       "      <td>BOI_SFO_31365</td>\n",
       "      <td>3</td>\n",
       "      <td>BOI</td>\n",
       "      <td>SFO</td>\n",
       "      <td>522</td>\n",
       "      <td>2004-01-01 07:39:00</td>\n",
       "      <td>2004-01-01 07:39:00</td>\n",
       "      <td>2</td>\n",
       "      <td>23234</td>\n",
       "      <td>FEW022 SCT026 OVC033</td>\n",
       "      <td>2.5</td>\n",
       "      <td>54.0</td>\n",
       "      <td>83.0</td>\n",
       "      <td>27.0</td>\n",
       "      <td>180</td>\n",
       "      <td>29.77</td>\n",
       "      <td>0.2</td>\n",
       "      <td>SFO</td>\n",
       "      <td>18.0</td>\n",
       "      <td>37.37</td>\n",
       "      <td>-122.24</td>\n",
       "      <td>5</td>\n",
       "    </tr>\n",
       "    <tr>\n",
       "      <th>1</th>\n",
       "      <td>PHL_CVG_49031</td>\n",
       "      <td>3</td>\n",
       "      <td>PHL</td>\n",
       "      <td>CVG</td>\n",
       "      <td>507</td>\n",
       "      <td>2004-01-01 08:14:00</td>\n",
       "      <td>2004-01-01 08:14:00</td>\n",
       "      <td>2</td>\n",
       "      <td>93814</td>\n",
       "      <td>SCT250</td>\n",
       "      <td>10.0</td>\n",
       "      <td>29.0</td>\n",
       "      <td>85.0</td>\n",
       "      <td>3.0</td>\n",
       "      <td>160</td>\n",
       "      <td>29.40</td>\n",
       "      <td>0.0</td>\n",
       "      <td>CVG</td>\n",
       "      <td>883.0</td>\n",
       "      <td>39.02</td>\n",
       "      <td>-84.40</td>\n",
       "      <td>2</td>\n",
       "    </tr>\n",
       "    <tr>\n",
       "      <th>2</th>\n",
       "      <td>HNL_EWR_52219</td>\n",
       "      <td>3</td>\n",
       "      <td>HNL</td>\n",
       "      <td>EWR</td>\n",
       "      <td>4962</td>\n",
       "      <td>2004-01-01 08:20:00</td>\n",
       "      <td>2004-01-01 08:20:00</td>\n",
       "      <td>2</td>\n",
       "      <td>14734</td>\n",
       "      <td>FEW045 SCT250</td>\n",
       "      <td>10.0</td>\n",
       "      <td>38.0</td>\n",
       "      <td>48.0</td>\n",
       "      <td>15.0</td>\n",
       "      <td>330</td>\n",
       "      <td>30.27</td>\n",
       "      <td>0.0</td>\n",
       "      <td>EWR</td>\n",
       "      <td>30.0</td>\n",
       "      <td>40.43</td>\n",
       "      <td>-74.10</td>\n",
       "      <td>2</td>\n",
       "    </tr>\n",
       "    <tr>\n",
       "      <th>3</th>\n",
       "      <td>DEN_LAS_43741</td>\n",
       "      <td>3</td>\n",
       "      <td>DEN</td>\n",
       "      <td>LAS</td>\n",
       "      <td>629</td>\n",
       "      <td>2004-01-01 09:02:00</td>\n",
       "      <td>2004-01-01 09:02:00</td>\n",
       "      <td>2</td>\n",
       "      <td>23169</td>\n",
       "      <td>BKN140 OVC200</td>\n",
       "      <td>10.0</td>\n",
       "      <td>47.0</td>\n",
       "      <td>41.0</td>\n",
       "      <td>11.0</td>\n",
       "      <td>170</td>\n",
       "      <td>27.86</td>\n",
       "      <td>0.0</td>\n",
       "      <td>LAS</td>\n",
       "      <td>2180.0</td>\n",
       "      <td>36.05</td>\n",
       "      <td>-115.10</td>\n",
       "      <td>5</td>\n",
       "    </tr>\n",
       "    <tr>\n",
       "      <th>4</th>\n",
       "      <td>ATL_IAH_48665</td>\n",
       "      <td>3</td>\n",
       "      <td>ATL</td>\n",
       "      <td>IAH</td>\n",
       "      <td>689</td>\n",
       "      <td>2004-01-01 10:14:00</td>\n",
       "      <td>2004-01-01 09:43:00</td>\n",
       "      <td>1</td>\n",
       "      <td>12960</td>\n",
       "      <td>OVC001</td>\n",
       "      <td>0.0</td>\n",
       "      <td>66.0</td>\n",
       "      <td>100.0</td>\n",
       "      <td>8.0</td>\n",
       "      <td>140</td>\n",
       "      <td>30.15</td>\n",
       "      <td>0.0</td>\n",
       "      <td>IAH</td>\n",
       "      <td>108.0</td>\n",
       "      <td>29.59</td>\n",
       "      <td>-95.22</td>\n",
       "      <td>3</td>\n",
       "    </tr>\n",
       "  </tbody>\n",
       "</table>\n",
       "</div>\n",
       "      <button class=\"colab-df-convert\" onclick=\"convertToInteractive('df-19a7da5e-427f-4a05-9e13-8af899c09492')\"\n",
       "              title=\"Convert this dataframe to an interactive table.\"\n",
       "              style=\"display:none;\">\n",
       "        \n",
       "  <svg xmlns=\"http://www.w3.org/2000/svg\" height=\"24px\"viewBox=\"0 0 24 24\"\n",
       "       width=\"24px\">\n",
       "    <path d=\"M0 0h24v24H0V0z\" fill=\"none\"/>\n",
       "    <path d=\"M18.56 5.44l.94 2.06.94-2.06 2.06-.94-2.06-.94-.94-2.06-.94 2.06-2.06.94zm-11 1L8.5 8.5l.94-2.06 2.06-.94-2.06-.94L8.5 2.5l-.94 2.06-2.06.94zm10 10l.94 2.06.94-2.06 2.06-.94-2.06-.94-.94-2.06-.94 2.06-2.06.94z\"/><path d=\"M17.41 7.96l-1.37-1.37c-.4-.4-.92-.59-1.43-.59-.52 0-1.04.2-1.43.59L10.3 9.45l-7.72 7.72c-.78.78-.78 2.05 0 2.83L4 21.41c.39.39.9.59 1.41.59.51 0 1.02-.2 1.41-.59l7.78-7.78 2.81-2.81c.8-.78.8-2.07 0-2.86zM5.41 20L4 18.59l7.72-7.72 1.47 1.35L5.41 20z\"/>\n",
       "  </svg>\n",
       "      </button>\n",
       "      \n",
       "  <style>\n",
       "    .colab-df-container {\n",
       "      display:flex;\n",
       "      flex-wrap:wrap;\n",
       "      gap: 12px;\n",
       "    }\n",
       "\n",
       "    .colab-df-convert {\n",
       "      background-color: #E8F0FE;\n",
       "      border: none;\n",
       "      border-radius: 50%;\n",
       "      cursor: pointer;\n",
       "      display: none;\n",
       "      fill: #1967D2;\n",
       "      height: 32px;\n",
       "      padding: 0 0 0 0;\n",
       "      width: 32px;\n",
       "    }\n",
       "\n",
       "    .colab-df-convert:hover {\n",
       "      background-color: #E2EBFA;\n",
       "      box-shadow: 0px 1px 2px rgba(60, 64, 67, 0.3), 0px 1px 3px 1px rgba(60, 64, 67, 0.15);\n",
       "      fill: #174EA6;\n",
       "    }\n",
       "\n",
       "    [theme=dark] .colab-df-convert {\n",
       "      background-color: #3B4455;\n",
       "      fill: #D2E3FC;\n",
       "    }\n",
       "\n",
       "    [theme=dark] .colab-df-convert:hover {\n",
       "      background-color: #434B5C;\n",
       "      box-shadow: 0px 1px 3px 1px rgba(0, 0, 0, 0.15);\n",
       "      filter: drop-shadow(0px 1px 2px rgba(0, 0, 0, 0.3));\n",
       "      fill: #FFFFFF;\n",
       "    }\n",
       "  </style>\n",
       "\n",
       "      <script>\n",
       "        const buttonEl =\n",
       "          document.querySelector('#df-19a7da5e-427f-4a05-9e13-8af899c09492 button.colab-df-convert');\n",
       "        buttonEl.style.display =\n",
       "          google.colab.kernel.accessAllowed ? 'block' : 'none';\n",
       "\n",
       "        async function convertToInteractive(key) {\n",
       "          const element = document.querySelector('#df-19a7da5e-427f-4a05-9e13-8af899c09492');\n",
       "          const dataTable =\n",
       "            await google.colab.kernel.invokeFunction('convertToInteractive',\n",
       "                                                     [key], {});\n",
       "          if (!dataTable) return;\n",
       "\n",
       "          const docLinkHtml = 'Like what you see? Visit the ' +\n",
       "            '<a target=\"_blank\" href=https://colab.research.google.com/notebooks/data_table.ipynb>data table notebook</a>'\n",
       "            + ' to learn more about interactive tables.';\n",
       "          element.innerHTML = '';\n",
       "          dataTable['output_type'] = 'display_data';\n",
       "          await google.colab.output.renderOutput(dataTable, element);\n",
       "          const docLink = document.createElement('div');\n",
       "          docLink.innerHTML = docLinkHtml;\n",
       "          element.appendChild(docLink);\n",
       "        }\n",
       "      </script>\n",
       "    </div>\n",
       "  </div>\n",
       "  "
      ],
      "text/plain": [
       "    FlightNumber  DayOfWeek Origin Destination  Distance       DateTimeStamp  \\\n",
       "0  BOI_SFO_31365          3    BOI         SFO       522 2004-01-01 07:39:00   \n",
       "1  PHL_CVG_49031          3    PHL         CVG       507 2004-01-01 08:14:00   \n",
       "2  HNL_EWR_52219          3    HNL         EWR      4962 2004-01-01 08:20:00   \n",
       "3  DEN_LAS_43741          3    DEN         LAS       629 2004-01-01 09:02:00   \n",
       "4  ATL_IAH_48665          3    ATL         IAH       689 2004-01-01 10:14:00   \n",
       "\n",
       "   ScheduledArrTime_c  FlightDelayStatus  WeatherStationID  \\\n",
       "0 2004-01-01 07:39:00                  2             23234   \n",
       "1 2004-01-01 08:14:00                  2             93814   \n",
       "2 2004-01-01 08:20:00                  2             14734   \n",
       "3 2004-01-01 09:02:00                  2             23169   \n",
       "4 2004-01-01 09:43:00                  1             12960   \n",
       "\n",
       "          SkyConditions  Visibility   DBT  RelativeHumidityPercent  WindSpeed  \\\n",
       "0  FEW022 SCT026 OVC033         2.5  54.0                     83.0       27.0   \n",
       "1                SCT250        10.0  29.0                     85.0        3.0   \n",
       "2         FEW045 SCT250        10.0  38.0                     48.0       15.0   \n",
       "3         BKN140 OVC200        10.0  47.0                     41.0       11.0   \n",
       "4                OVC001         0.0  66.0                    100.0        8.0   \n",
       "\n",
       "   WindDirection  StationPressure  HourlyPrecip AirportID  StationHeight  \\\n",
       "0            180            29.77           0.2       SFO           18.0   \n",
       "1            160            29.40           0.0       CVG          883.0   \n",
       "2            330            30.27           0.0       EWR           30.0   \n",
       "3            170            27.86           0.0       LAS         2180.0   \n",
       "4            140            30.15           0.0       IAH          108.0   \n",
       "\n",
       "   Latitude  Longitude  TimeZone  \n",
       "0     37.37    -122.24         5  \n",
       "1     39.02     -84.40         2  \n",
       "2     40.43     -74.10         2  \n",
       "3     36.05    -115.10         5  \n",
       "4     29.59     -95.22         3  "
      ]
     },
     "execution_count": 41,
     "metadata": {},
     "output_type": "execute_result"
    }
   ],
   "source": [
    "pd.options.display.max_columns = 50\n",
    "pd.options.display.max_rows = 500\n",
    "train_df_v2.head()"
   ]
  },
  {
   "cell_type": "code",
   "execution_count": 42,
   "metadata": {
    "colab": {
     "base_uri": "https://localhost:8080/"
    },
    "id": "n_s5nvSm9uBN",
    "outputId": "7254156a-f7d1-4779-ddb0-f4b6a0bef432"
   },
   "outputs": [
    {
     "data": {
      "text/plain": [
       "FlightNumber               0\n",
       "DayOfWeek                  0\n",
       "Origin                     0\n",
       "Destination                0\n",
       "Distance                   0\n",
       "DateTimeStamp              0\n",
       "ScheduledArrTime_c         0\n",
       "FlightDelayStatus          0\n",
       "WeatherStationID           0\n",
       "SkyConditions              0\n",
       "Visibility                 0\n",
       "DBT                        0\n",
       "RelativeHumidityPercent    0\n",
       "WindSpeed                  0\n",
       "WindDirection              0\n",
       "StationPressure            0\n",
       "HourlyPrecip               0\n",
       "AirportID                  0\n",
       "StationHeight              0\n",
       "Latitude                   0\n",
       "Longitude                  0\n",
       "TimeZone                   0\n",
       "dtype: int64"
      ]
     },
     "execution_count": 42,
     "metadata": {},
     "output_type": "execute_result"
    }
   ],
   "source": [
    "train_df_v2.isna().sum()"
   ]
  },
  {
   "cell_type": "code",
   "execution_count": 47,
   "metadata": {
    "colab": {
     "base_uri": "https://localhost:8080/"
    },
    "id": "DL1tkkeew28g",
    "outputId": "f62a5bde-8117-4426-eb6a-25487d0531dd"
   },
   "outputs": [
    {
     "name": "stdout",
     "output_type": "stream",
     "text": [
      "<class 'pandas.core.frame.DataFrame'>\n",
      "Int64Index: 7861 entries, 0 to 7860\n",
      "Data columns (total 22 columns):\n",
      " #   Column                   Non-Null Count  Dtype         \n",
      "---  ------                   --------------  -----         \n",
      " 0   FlightNumber             7861 non-null   object        \n",
      " 1   DayOfWeek                7861 non-null   int64         \n",
      " 2   Origin                   7861 non-null   object        \n",
      " 3   Destination              7861 non-null   object        \n",
      " 4   Distance                 7861 non-null   int64         \n",
      " 5   DateTimeStamp            7861 non-null   datetime64[ns]\n",
      " 6   ScheduledArrTime_c       7861 non-null   datetime64[ns]\n",
      " 7   FlightDelayStatus        7861 non-null   int64         \n",
      " 8   WeatherStationID         7861 non-null   int64         \n",
      " 9   SkyConditions            7861 non-null   object        \n",
      " 10  Visibility               7861 non-null   float64       \n",
      " 11  DBT                      7861 non-null   float64       \n",
      " 12  RelativeHumidityPercent  7861 non-null   float64       \n",
      " 13  WindSpeed                7861 non-null   float64       \n",
      " 14  WindDirection            7861 non-null   int64         \n",
      " 15  StationPressure          7861 non-null   float64       \n",
      " 16  HourlyPrecip             7861 non-null   float64       \n",
      " 17  AirportID                7861 non-null   object        \n",
      " 18  StationHeight            7861 non-null   float64       \n",
      " 19  Latitude                 7861 non-null   float64       \n",
      " 20  Longitude                7861 non-null   float64       \n",
      " 21  TimeZone                 7861 non-null   int64         \n",
      "dtypes: datetime64[ns](2), float64(9), int64(6), object(5)\n",
      "memory usage: 1.4+ MB\n"
     ]
    }
   ],
   "source": [
    "# Info on final train dataset \n",
    "train_df_v2.info()"
   ]
  },
  {
   "cell_type": "code",
   "execution_count": 43,
   "metadata": {
    "id": "HMzwhKR5-p0O"
   },
   "outputs": [],
   "source": [
    "null = train_df_v2[train_df_v2['WeatherStationID'].isnull()]"
   ]
  },
  {
   "cell_type": "code",
   "execution_count": 45,
   "metadata": {
    "colab": {
     "base_uri": "https://localhost:8080/"
    },
    "id": "90tt61wg_mtC",
    "outputId": "216d7e5e-f9b6-4c2b-8e74-a51acbe254d8"
   },
   "outputs": [
    {
     "data": {
      "text/plain": [
       "array([5, 2, 3, 4, 0, 6, 1])"
      ]
     },
     "execution_count": 45,
     "metadata": {},
     "output_type": "execute_result"
    }
   ],
   "source": [
    "#checking for unique timezone values to check any disperancy in naming convention\n",
    "train_df_v2['TimeZone'].unique()"
   ]
  },
  {
   "cell_type": "code",
   "execution_count": 46,
   "metadata": {
    "id": "bITWOGHWYGr7"
   },
   "outputs": [],
   "source": [
    "#saving final train dataset for model building\n",
    "train_df_v2.to_csv('final_train_dataset.csv',index_label = False)"
   ]
  },
  {
   "cell_type": "code",
   "execution_count": 46,
   "metadata": {
    "id": "-a4nr6l3ZAaa"
   },
   "outputs": [],
   "source": []
  }
 ],
 "metadata": {
  "accelerator": "GPU",
  "colab": {
   "provenance": []
  },
  "gpuClass": "standard",
  "kernelspec": {
   "display_name": "Python 3 (ipykernel)",
   "language": "python",
   "name": "python3"
  },
  "language_info": {
   "codemirror_mode": {
    "name": "ipython",
    "version": 3
   },
   "file_extension": ".py",
   "mimetype": "text/x-python",
   "name": "python",
   "nbconvert_exporter": "python",
   "pygments_lexer": "ipython3",
   "version": "3.9.7"
  }
 },
 "nbformat": 4,
 "nbformat_minor": 1
}
